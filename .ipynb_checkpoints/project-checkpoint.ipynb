{
 "cells": [
  {
   "cell_type": "code",
   "execution_count": 1,
   "metadata": {
    "collapsed": true
   },
   "outputs": [],
   "source": [
    "%load_ext autoreload\n",
    "%autoreload 2\n"
   ]
  },
  {
   "cell_type": "code",
   "execution_count": 2,
   "metadata": {
    "collapsed": true
   },
   "outputs": [],
   "source": [
    "# import english dictionary\n",
    "# import json\n",
    "# dictionary = json.load(open('dictionary/dictionary.json'))\n",
    "# print(len(dictionary))\n",
    "# graph = json.load(open('dictionary/graph.json'))\n",
    "# print(len(graph))\n",
    "\n"
   ]
  },
  {
   "cell_type": "code",
   "execution_count": 3,
   "metadata": {
    "collapsed": true
   },
   "outputs": [],
   "source": [
    "# import amazon books review\n",
    "# allbooks=open('amazondataset/Books_5.json')\n",
    "# books=[]\n",
    "# for book in allbooks:\n",
    "#     books.append(json.load(book))\n",
    "# print(len(books))"
   ]
  },
  {
   "cell_type": "code",
   "execution_count": 4,
   "metadata": {},
   "outputs": [],
   "source": [
    "# import amazon videogame review\n",
    "from Turney import *"
   ]
  },
  {
   "cell_type": "code",
   "execution_count": 5,
   "metadata": {},
   "outputs": [],
   "source": [
    "game_reviews_detail=read_amazon_review_detail('amazondataset/Video_Games_5.json')\n",
    "# game_reviews=read_amazon_review('amazondataset/Video_Games_5.json')"
   ]
  },
  {
   "cell_type": "code",
   "execution_count": 6,
   "metadata": {
    "collapsed": true
   },
   "outputs": [],
   "source": [
    "# print(game_reviews_detail[0].keys())\n",
    "# for key in game_reviews_detail[0].keys():\n",
    "#     print(key,game_reviews_detail[0][key])"
   ]
  },
  {
   "cell_type": "code",
   "execution_count": 7,
   "metadata": {},
   "outputs": [],
   "source": [
    "# movie_reviews_detail=read_amazon_review_detail('amazondataset/Movies_and_TV_5.json')\n",
    "# movie_reviews=read_amazon_review('amazondataset/Movies_and_TV_5.json')"
   ]
  },
  {
   "cell_type": "code",
   "execution_count": 8,
   "metadata": {},
   "outputs": [],
   "source": [
    "# print(movie_reviews_detail[0].keys())\n",
    "# for key in movie_reviews_detail[0].keys():\n",
    "#     print(key,movie_reviews_detail[0][key])"
   ]
  },
  {
   "cell_type": "code",
   "execution_count": 9,
   "metadata": {},
   "outputs": [
    {
     "ename": "KeyboardInterrupt",
     "evalue": "",
     "output_type": "error",
     "traceback": [
      "\u001b[0;31m---------------------------------------------------------------------------\u001b[0m",
      "\u001b[0;31mKeyboardInterrupt\u001b[0m                         Traceback (most recent call last)",
      "\u001b[0;32m<ipython-input-9-8a70ee1d6f84>\u001b[0m in \u001b[0;36m<module>\u001b[0;34m()\u001b[0m\n\u001b[1;32m      4\u001b[0m \u001b[0mpos_list\u001b[0m\u001b[0;34m=\u001b[0m\u001b[0;34m[\u001b[0m\u001b[0;34m\"good\"\u001b[0m\u001b[0;34m,\u001b[0m \u001b[0;34m\"nice\"\u001b[0m\u001b[0;34m,\u001b[0m \u001b[0;34m\"love\"\u001b[0m\u001b[0;34m,\u001b[0m \u001b[0;34m\"excellent\"\u001b[0m\u001b[0;34m,\u001b[0m \u001b[0;34m\"fortunate\"\u001b[0m\u001b[0;34m,\u001b[0m \u001b[0;34m\"correct\"\u001b[0m\u001b[0;34m,\u001b[0m \u001b[0;34m\"superior\"\u001b[0m\u001b[0;34m]\u001b[0m\u001b[0;34m\u001b[0m\u001b[0m\n\u001b[1;32m      5\u001b[0m \u001b[0mneg_list\u001b[0m\u001b[0;34m=\u001b[0m\u001b[0;34m[\u001b[0m\u001b[0;34m\"struggle\"\u001b[0m \u001b[0;34m,\u001b[0m\u001b[0;34m\"hate\"\u001b[0m \u001b[0;34m,\u001b[0m\u001b[0;34m\"horrible\"\u001b[0m\u001b[0;34m,\u001b[0m\u001b[0;34m\"bugs\"\u001b[0m\u001b[0;34m,\u001b[0m\u001b[0;34m\"disappointing\"\u001b[0m\u001b[0;34m]\u001b[0m\u001b[0;34m\u001b[0m\u001b[0m\n\u001b[0;32m----> 6\u001b[0;31m \u001b[0mprintword\u001b[0m\u001b[0;34m(\u001b[0m\u001b[0mpos_list\u001b[0m\u001b[0;34m,\u001b[0m\u001b[0mneg_list\u001b[0m\u001b[0;34m,\u001b[0m\u001b[0mgame_reviews\u001b[0m\u001b[0;34m)\u001b[0m\u001b[0;34m\u001b[0m\u001b[0m\n\u001b[0m",
      "\u001b[0;32m/Users/wenboxie/Downloads/585project/Turney.py\u001b[0m in \u001b[0;36mprintword\u001b[0;34m(pos_list, neg_list, reviews)\u001b[0m\n\u001b[1;32m     42\u001b[0m         \u001b[0;32mfor\u001b[0m \u001b[0mword\u001b[0m \u001b[0;32min\u001b[0m \u001b[0mwords\u001b[0m\u001b[0;34m:\u001b[0m\u001b[0;34m\u001b[0m\u001b[0m\n\u001b[1;32m     43\u001b[0m             \u001b[0;32mif\u001b[0m \u001b[0mpostag\u001b[0m\u001b[0;34m:\u001b[0m\u001b[0;34m\u001b[0m\u001b[0m\n\u001b[0;32m---> 44\u001b[0;31m                 \u001b[0mcountword_pos\u001b[0m\u001b[0;34m[\u001b[0m\u001b[0mword\u001b[0m\u001b[0;34m]\u001b[0m\u001b[0;34m+=\u001b[0m\u001b[0;36m1\u001b[0m\u001b[0;34m\u001b[0m\u001b[0m\n\u001b[0m\u001b[1;32m     45\u001b[0m             \u001b[0;32mif\u001b[0m \u001b[0mnegtag\u001b[0m\u001b[0;34m:\u001b[0m\u001b[0;34m\u001b[0m\u001b[0m\n\u001b[1;32m     46\u001b[0m                 \u001b[0mcountword_neg\u001b[0m\u001b[0;34m[\u001b[0m\u001b[0mword\u001b[0m\u001b[0;34m]\u001b[0m\u001b[0;34m+=\u001b[0m\u001b[0;36m1\u001b[0m\u001b[0;34m\u001b[0m\u001b[0m\n",
      "\u001b[0;31mKeyboardInterrupt\u001b[0m: "
     ]
    }
   ],
   "source": [
    "# top 50 negative and positive word base on pos and neg list\n",
    "game_reviews_detail=read_amazon_review_detail('amazondataset/Video_Games_5.json')\n",
    "game_reviews=read_amazon_review('amazondataset/Video_Games_5.json')\n",
    "pos_list=[\"good\", \"nice\", \"love\", \"excellent\", \"fortunate\", \"correct\", \"superior\"]\n",
    "neg_list=[\"struggle\" ,\"hate\" ,\"horrible\",\"bugs\",\"disappointing\"]\n",
    "printword(pos_list,neg_list,game_reviews)"
   ]
  },
  {
   "cell_type": "code",
   "execution_count": null,
   "metadata": {},
   "outputs": [],
   "source": [
    "# find word with 10 reviews\n",
    "import data\n",
    "\n",
    "for word in data.data:\n",
    "    if findword(word,game_reviews):\n",
    "        print word\n",
    "\n",
    "# print findword('yummy', game_reviews)"
   ]
  },
  {
   "cell_type": "code",
   "execution_count": null,
   "metadata": {},
   "outputs": [],
   "source": [
    "# negative review\n",
    "for review_detail in game_reviews_detail:\n",
    "    if review_detail['overall']==1:\n",
    "        print(review_detail['reviewText'])\n",
    "\n"
   ]
  },
  {
   "cell_type": "code",
   "execution_count": null,
   "metadata": {
    "collapsed": true
   },
   "outputs": [],
   "source": [
    "# positive review\n",
    "# for review_detail in game_reviews_detail:\n",
    "#     if review_detail['overall']==5:\n",
    "#         print(review_detail['reviewText'])\n",
    "\n"
   ]
  },
  {
   "cell_type": "code",
   "execution_count": null,
   "metadata": {
    "collapsed": true
   },
   "outputs": [],
   "source": []
  },
  {
   "cell_type": "code",
   "execution_count": null,
   "metadata": {
    "collapsed": true
   },
   "outputs": [],
   "source": []
  },
  {
   "cell_type": "code",
   "execution_count": null,
   "metadata": {
    "collapsed": true
   },
   "outputs": [],
   "source": []
  },
  {
   "cell_type": "code",
   "execution_count": null,
   "metadata": {
    "collapsed": true
   },
   "outputs": [],
   "source": [
    "# lemmatization\n",
    "# from project import replacestr\n",
    "# t1=time.time()\n",
    "# for game in games:\n",
    "#     game['reviewText']=replacestr(game['reviewText'])\n",
    "\n",
    "\n",
    "# t2=time.time()\n",
    "# print(t2-t1)\n",
    "\n",
    "\n"
   ]
  },
  {
   "cell_type": "code",
   "execution_count": null,
   "metadata": {
    "collapsed": true
   },
   "outputs": [],
   "source": [
    "# review rate\n",
    "# from collections import defaultdict\n",
    "# storerate=defaultdict(int)\n",
    "# for review_detail in game_reviews_detail:\n",
    "#     storerate[review_detail['overall']]+=1\n",
    "# print(storerate)"
   ]
  },
  {
   "cell_type": "code",
   "execution_count": null,
   "metadata": {},
   "outputs": [],
   "source": [
    "from nltk.stem.porter import PorterStemmer\n",
    "stemmer=PorterStemmer()\n",
    "def tokenizer_porter(text):\n",
    "    return [stemmer.stem(word) for word in text.split()]\n",
    "tokenizer_porter('runners like running and thus they run')\n"
   ]
  },
  {
   "cell_type": "code",
   "execution_count": null,
   "metadata": {},
   "outputs": [],
   "source": [
    "from nltk.stem import WordNetLemmatizer\n",
    "lemmatizer = WordNetLemmatizer()\n",
    "lemmatizer.lemmatize('we\\'re')"
   ]
  },
  {
   "cell_type": "code",
   "execution_count": null,
   "metadata": {
    "collapsed": true
   },
   "outputs": [],
   "source": []
  },
  {
   "cell_type": "code",
   "execution_count": null,
   "metadata": {
    "collapsed": true
   },
   "outputs": [],
   "source": []
  },
  {
   "cell_type": "code",
   "execution_count": null,
   "metadata": {
    "collapsed": true
   },
   "outputs": [],
   "source": []
  },
  {
   "cell_type": "code",
   "execution_count": null,
   "metadata": {
    "collapsed": true
   },
   "outputs": [],
   "source": []
  }
 ],
 "metadata": {
  "kernelspec": {
   "display_name": "Python 2",
   "language": "python",
   "name": "python2"
  },
  "language_info": {
   "codemirror_mode": {
    "name": "ipython",
    "version": 2
   },
   "file_extension": ".py",
   "mimetype": "text/x-python",
   "name": "python",
   "nbconvert_exporter": "python",
   "pygments_lexer": "ipython2",
   "version": "2.7.13"
  }
 },
 "nbformat": 4,
 "nbformat_minor": 2
}
