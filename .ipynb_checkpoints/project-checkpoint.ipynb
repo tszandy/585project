{
 "cells": [
  {
   "cell_type": "code",
   "execution_count": 1,
   "metadata": {
    "collapsed": true
   },
   "outputs": [],
   "source": [
    "%load_ext autoreload\n",
    "%autoreload 2\n"
   ]
  },
  {
   "cell_type": "code",
   "execution_count": 2,
   "metadata": {
    "collapsed": true
   },
   "outputs": [],
   "source": [
    "# import english dictionary\n",
    "# import json\n",
    "# dictionary = json.load(open('dictionary/dictionary.json'))\n",
    "# print(len(dictionary))\n",
    "# graph = json.load(open('dictionary/graph.json'))\n",
    "# print(len(graph))\n",
    "\n"
   ]
  },
  {
   "cell_type": "code",
   "execution_count": 3,
   "metadata": {
    "collapsed": true
   },
   "outputs": [],
   "source": [
    "# import amazon books review\n",
    "# allbooks=open('amazondataset/Books_5.json')\n",
    "# books=[]\n",
    "# for book in allbooks:\n",
    "#     books.append(json.load(book))\n",
    "# print(len(books))"
   ]
  },
  {
   "cell_type": "code",
   "execution_count": 4,
   "metadata": {
    "collapsed": true
   },
   "outputs": [],
   "source": [
    "# import amazon videogame review\n",
    "from Turney import *"
   ]
  },
  {
   "cell_type": "code",
   "execution_count": 5,
   "metadata": {
    "collapsed": true
   },
   "outputs": [],
   "source": [
    "# game_reviews_detail=read_amazon_review_detail('amazondataset/Video_Games_5.json')\n",
    "# game_reviews=read_amazon_review('amazondataset/Video_Games_5.json')"
   ]
  },
  {
   "cell_type": "code",
   "execution_count": 6,
   "metadata": {
    "collapsed": true
   },
   "outputs": [],
   "source": [
    "# print(game_reviews_detail[0].keys())\n",
    "# for key in game_reviews_detail[0].keys():\n",
    "#     print(key,game_reviews_detail[0][key])"
   ]
  },
  {
   "cell_type": "code",
   "execution_count": 7,
   "metadata": {
    "collapsed": true
   },
   "outputs": [],
   "source": [
    "movie_reviews_detail=read_amazon_review_detail('amazondataset/Movies_and_TV_5.json')\n",
    "# movie_reviews=read_amazon_review('amazondataset/Movies_and_TV_5.json')"
   ]
  },
  {
   "cell_type": "code",
   "execution_count": 8,
   "metadata": {},
   "outputs": [
    {
     "name": "stdout",
     "output_type": "stream",
     "text": [
      "[u'reviewerID', u'asin', u'reviewerName', u'helpful', u'reviewText', u'overall', u'summary', u'unixReviewTime', u'reviewTime']\n",
      "(u'reviewerID', u'ADZPIG9QOCDG5')\n",
      "(u'asin', u'0005019281')\n",
      "(u'reviewerName', u'Alice L. Larson \"alice-loves-books\"')\n",
      "(u'helpful', [0, 0])\n",
      "(u'reviewText', u'This is a charming version of the classic Dicken\\'s tale.  Henry Winkler makes a good showing as the \"Scrooge\" character.  Even though you know what will happen this version has enough of a change to make it better that average.  If you love A Christmas Carol in any version, then you will love this.')\n",
      "(u'overall', 4.0)\n",
      "(u'summary', u'good version of a classic')\n",
      "(u'unixReviewTime', 1203984000)\n",
      "(u'reviewTime', u'02 26, 2008')\n"
     ]
    }
   ],
   "source": [
    "print(movie_reviews_detail[0].keys())\n",
    "for key in movie_reviews_detail[0].keys():\n",
    "    print(key,movie_reviews_detail[0][key])"
   ]
  },
  {
   "cell_type": "code",
   "execution_count": 9,
   "metadata": {
    "collapsed": true
   },
   "outputs": [],
   "source": [
    "# top 50 negative and positive word base on pos and neg list\n",
    "# game_reviews_detail=read_amazon_review_detail('amazondataset/Video_Games_5.json')\n",
    "# game_reviews=read_amazon_review('amazondataset/Video_Games_5.json')\n",
    "# pos_list=[\"good\", \"nice\", \"love\", \"excellent\", \"fortunate\", \"correct\", \"superior\"]\n",
    "# neg_list=[\"struggle\" ,\"hate\" ,\"horrible\",\"bugs\",\"disappointing\"]\n",
    "# printword(pos_list,neg_list,game_reviews)"
   ]
  },
  {
   "cell_type": "code",
   "execution_count": 10,
   "metadata": {
    "collapsed": true
   },
   "outputs": [],
   "source": [
    "# find word with 10 reviews\n",
    "# findword('unfortunately',game_reviews)"
   ]
  },
  {
   "cell_type": "code",
   "execution_count": 11,
   "metadata": {
    "collapsed": true
   },
   "outputs": [],
   "source": [
    "# negative review\n",
    "# for review_detail in game_reviews_detail:\n",
    "#     if review_detail['overall']==1:\n",
    "#         print(review_detail['reviewText'])\n",
    "\n"
   ]
  },
  {
   "cell_type": "code",
   "execution_count": 12,
   "metadata": {
    "collapsed": true
   },
   "outputs": [],
   "source": [
    "# positive review\n",
    "# for review_detail in game_reviews_detail:\n",
    "#     if review_detail['overall']==5:\n",
    "#         print(review_detail['reviewText'])\n",
    "\n"
   ]
  },
  {
   "cell_type": "code",
   "execution_count": null,
   "metadata": {
    "collapsed": true
   },
   "outputs": [],
   "source": []
  },
  {
   "cell_type": "code",
   "execution_count": null,
   "metadata": {
    "collapsed": true
   },
   "outputs": [],
   "source": []
  },
  {
   "cell_type": "code",
   "execution_count": null,
   "metadata": {
    "collapsed": true
   },
   "outputs": [],
   "source": []
  },
  {
   "cell_type": "code",
   "execution_count": 13,
   "metadata": {
    "collapsed": true
   },
   "outputs": [],
   "source": [
    "# lemmatization\n",
    "# from project import replacestr\n",
    "# t1=time.time()\n",
    "# for game in games:\n",
    "#     game['reviewText']=replacestr(game['reviewText'])\n",
    "\n",
    "\n",
    "# t2=time.time()\n",
    "# print(t2-t1)\n",
    "\n",
    "\n"
   ]
  },
  {
   "cell_type": "code",
   "execution_count": 14,
   "metadata": {
    "collapsed": true
   },
   "outputs": [],
   "source": [
    "# review rate\n",
    "# from collections import defaultdict\n",
    "# storerate=defaultdict(int)\n",
    "# for review_detail in game_reviews_detail:\n",
    "#     storerate[review_detail['overall']]+=1\n",
    "# print(storerate)"
   ]
  },
  {
   "cell_type": "code",
   "execution_count": 5,
   "metadata": {},
   "outputs": [
    {
     "data": {
      "text/plain": [
       "[u\"we'r\"]"
      ]
     },
     "execution_count": 5,
     "metadata": {},
     "output_type": "execute_result"
    }
   ],
   "source": [
    "from nltk.stem.porter import PorterStemmer\n",
    "stemmer=PorterStemmer()\n",
    "def tokenizer_porter(text):\n",
    "    return [stemmer.stem(word) for word in text.split()]\n",
    "tokenizer_porter('runners like running and thus they run')\n"
   ]
  },
  {
   "cell_type": "code",
   "execution_count": 6,
   "metadata": {},
   "outputs": [
    {
     "data": {
      "text/plain": [
       "\"we're\""
      ]
     },
     "execution_count": 6,
     "metadata": {},
     "output_type": "execute_result"
    }
   ],
   "source": [
    "from nltk.stem import WordNetLemmatizer\n",
    "lemmatizer = WordNetLemmatizer()\n",
    "lemmatizer.lemmatize('we\\'re')"
   ]
  },
  {
   "cell_type": "code",
   "execution_count": 12,
   "metadata": {},
   "outputs": [
    {
     "data": {
      "text/plain": [
       "[Synset('procyonid.n.01'),\n",
       " Synset('carnivore.n.01'),\n",
       " Synset('placental.n.01'),\n",
       " Synset('mammal.n.01'),\n",
       " Synset('vertebrate.n.01'),\n",
       " Synset('chordate.n.01'),\n",
       " Synset('animal.n.01'),\n",
       " Synset('organism.n.01'),\n",
       " Synset('living_thing.n.01'),\n",
       " Synset('whole.n.02'),\n",
       " Synset('object.n.01'),\n",
       " Synset('physical_entity.n.01'),\n",
       " Synset('entity.n.01')]"
      ]
     },
     "execution_count": 12,
     "metadata": {},
     "output_type": "execute_result"
    }
   ],
   "source": [
    "from nltk.corpus import wordnet as wn\n",
    "panda = wn.synset('panda.n.01')\n",
    "hyper = lambda s:s.hypernyms()\n",
    "list(panda.closure(hyper))"
   ]
  },
  {
   "cell_type": "code",
   "execution_count": null,
   "metadata": {
    "collapsed": true
   },
   "outputs": [],
   "source": []
  },
  {
   "cell_type": "code",
   "execution_count": null,
   "metadata": {
    "collapsed": true
   },
   "outputs": [],
   "source": []
  },
  {
   "cell_type": "code",
   "execution_count": null,
   "metadata": {
    "collapsed": true
   },
   "outputs": [],
   "source": []
  }
 ],
 "metadata": {
  "kernelspec": {
   "display_name": "Python 2",
   "language": "python",
   "name": "python2"
  },
  "language_info": {
   "codemirror_mode": {
    "name": "ipython",
    "version": 2
   },
   "file_extension": ".py",
   "mimetype": "text/x-python",
   "name": "python",
   "nbconvert_exporter": "python",
   "pygments_lexer": "ipython2",
   "version": "2.7.13"
  }
 },
 "nbformat": 4,
 "nbformat_minor": 2
}
