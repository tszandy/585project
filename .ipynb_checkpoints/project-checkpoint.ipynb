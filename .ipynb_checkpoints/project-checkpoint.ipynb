{
 "cells": [
  {
   "cell_type": "code",
   "execution_count": 1,
   "metadata": {
    "collapsed": true
   },
   "outputs": [],
   "source": [
    "%load_ext autoreload\n",
    "%autoreload 2\n"
   ]
  },
  {
   "cell_type": "code",
   "execution_count": 2,
   "metadata": {},
   "outputs": [
    {
     "name": "stdout",
     "output_type": "stream",
     "text": [
      "86036\n",
      "86024\n"
     ]
    }
   ],
   "source": [
    "# import english dictionary\n",
    "import json\n",
    "dictionary = json.load(open('dictionary/dictionary.json'))\n",
    "print(len(dictionary))\n",
    "graph = json.load(open('dictionary/graph.json'))\n",
    "print(len(graph))\n",
    "\n"
   ]
  },
  {
   "cell_type": "code",
   "execution_count": 3,
   "metadata": {
    "collapsed": true
   },
   "outputs": [],
   "source": [
    "# import amazon books review\n",
    "# allbooks=open('amazondataset/Books_5.json')\n",
    "# books=[]\n",
    "# for book in allbooks:\n",
    "#     books.append(json.load(book))\n",
    "# print(len(books))"
   ]
  },
  {
   "cell_type": "code",
   "execution_count": 8,
   "metadata": {},
   "outputs": [],
   "source": [
    "# import amazon videogame review\n",
    "from Turney import *\n",
    "game_reviews=read_amazon_review('amazondataset/Video_Games_5.json')\n"
   ]
  },
  {
   "cell_type": "code",
   "execution_count": 7,
   "metadata": {},
   "outputs": [
    {
     "name": "stdout",
     "output_type": "stream",
     "text": [
      "top 50 postive word:\n",
      "grandson,1.18678840799\n",
      "loves,1.06640883654\n",
      "Bought,0.621316483669\n",
      "husband,0.560765748668\n",
      "condition.,0.532770306747\n",
      "son,0.507846327011\n",
      "condition,0.412887838178\n",
      "Fit,0.325305912606\n",
      "daughter,0.322954127373\n",
      "Highly,0.306201861879\n",
      "Works,0.282868249407\n",
      "ds,0.270237293347\n",
      "birthday,0.265655051635\n",
      "gift,0.252414372293\n",
      "3ds,0.251544490309\n",
      "Kids,0.251292696275\n",
      "fitness,0.215942598958\n",
      "Christmas.,0.197875036573\n",
      "recomend,0.197330522539\n",
      "ages.,0.195108017652\n",
      "loved,0.184962858297\n",
      "charger,0.182980132773\n",
      "arrived,0.156777760379\n",
      "DSi,0.154109084921\n",
      "excellent,,0.153620027569\n",
      "headset,,0.149578821537\n",
      "it!,0.148850009609\n",
      "excellent.,0.14796018373\n",
      "play!,0.147049309227\n",
      "sturdy,0.145334533157\n",
      "Got,0.133721701914\n",
      "lego,0.12917201176\n",
      "vita,0.125230744182\n",
      "Lite,0.121925104054\n",
      "mario,0.112433096963\n",
      "Our,0.109682324538\n",
      "nicely.,0.106164473005\n",
      "Love,0.106010986953\n",
      "Christmas,0.103036027047\n",
      "too!,0.0986738012761\n",
      "bundle,0.0880799238477\n",
      "game!,0.0872312267282\n",
      "relaxing,0.0863999199158\n",
      "collection.,0.0860893694168\n",
      "headset.,0.0856152984553\n",
      "recommended.,0.0832456291\n",
      "love.,0.0820135020415\n",
      "kids,0.0756840578186\n",
      "Skylanders,0.073443621119\n",
      "Brothers,0.0731296493739\n",
      "()\n",
      "top 50 negative word:\n",
      "que,-1.46004175598\n",
      "wrong.,-1.22542036692\n",
      "bad.,-1.12951790649\n",
      "Dynasty,-1.12571443097\n",
      "poorly,-1.12324429244\n",
      "wrong,,-1.112400248\n",
      "whatever,-1.11203319799\n",
      "hated,-1.11071543331\n",
      "badly,-1.10541806539\n",
      "bad,,-1.10222240202\n",
      "baddies,-1.06626840127\n",
      "Warriors,-0.959713244293\n",
      "es,-0.908589725958\n",
      "guys.,-0.88632936773\n",
      "en,-0.864178259158\n",
      "unfortunately,-0.850093519276\n",
      "unfortunately,,-0.850093519276\n",
      "guys,,-0.843599989965\n",
      "Too,-0.834213536598\n",
      "el,-0.765536131248\n",
      "NCAA,-0.756892727025\n",
      "guys,-0.736496341552\n",
      "worst,-0.72210184895\n",
      "horrible,,-0.688283055979\n",
      "horribly,-0.687366711178\n",
      "awful.,-0.67971749702\n",
      "detection,-0.676140212152\n",
      "worse,,-0.675949578147\n",
      "awful,-0.670420970654\n",
      "worse,-0.669762805266\n",
      "worse.,-0.66417659989\n",
      "terrible,,-0.656935011152\n",
      "Bethesda,-0.652400182434\n",
      "painful,-0.651242660531\n",
      "chore,-0.649654761655\n",
      "y,-0.648843952596\n",
      "ugly,-0.647650559283\n",
      "joke.,-0.644932470512\n",
      "screwed,-0.639457237314\n",
      "horrible,-0.637270903194\n",
      "utterly,-0.63492116219\n",
      "evidence,-0.632305529706\n",
      "horrible.,-0.632195087915\n",
      "guy,,-0.629952329213\n",
      "painfully,-0.629278257721\n",
      "execution,-0.626949967962\n",
      "cop,-0.625833273262\n",
      "stat,-0.622515370894\n",
      "stupid,-0.618007486616\n",
      "terrible.,-0.617219683319\n"
     ]
    }
   ],
   "source": [
    "pos_list=[\"good\", \"nice\", \"love\", \"excellent\", \"fortunate\", \"correct\", \"superior\"]\n",
    "neg_list=[\"bad\", \"nasty\", \"poor\", \"hate\", \"unfortunate\", \"wrong\", \"inferior\"]\n",
    "printword(pos_list,neg_list,game_reviews)\n",
    "\n"
   ]
  },
  {
   "cell_type": "code",
   "execution_count": 9,
   "metadata": {},
   "outputs": [
    {
     "name": "stdout",
     "output_type": "stream",
     "text": [
      "While the product is what it is described as, it unfortunately will give me no signal whatsoever. I believe it is a fault of the a/v cable side, as plugging that in, unplugging it, blowing on it, hissing at it, calling it names, then plugging it back in seems to make it work again. I did check and have the problem across more than one tv, so it's not the tv's fault. I have no way to determine with confidence if it is a fault of the Wii, but I doubt so, as the Wii has no problem with its standard definition cabling that it came with (why, Wii, did you not include component/hdmi cabling by default? HD isn't that rare). Ah, but it is the most inexpensive version of this cable I could find, and the picture is markedly better using this than the original cabling.\n",
      "Finally, after YEARS of seeing Mega Man in 2D shooter side-scroller gameplay, Capcom began to realize the video game scene was changing, and realism was becoming more important than ever.  So in 1997 Capcom decided to take the classic gameplay of the old Mega Man games and bring Mega Man to an ENTIRE new 3D world.  I finally got to experience the 3D Mega Man adventure a few days ago, in July 2006.  So it took me NINE years to finally play it!  What can I say?  I'm slow!I have a few problems with certain parts of the game but overall, I'm happy to report that the jump to 3D was a good one (not to mention a NECESSARY one!)  Mega Man spends the entire time in Legends jumping and shooting through a unique 3D environment.I'm surprised so many people hate the graphics in the game.  They're quite wonderful if you ask me.  Sure, the graphics may be dated because the game is nearly 10 years old (and walking around in Mega Man Legends is sort of like walking around in a giant land of legos) but none of that should matter because you have to take into account the amount of FUN a game provides.  Mega Man Legends provides a LOT of fun.I really loved one of the very first boss fights in the game where I had to keep running and hiding behind buildings because these giant walking blue, red and yellow machines were throwing bombs and shooting laser beams at me.  The first time I completed this battle it took a good 30 minutes ONLY for a bigger, badder machine to come in and defeat me in seconds.  At first I was angry because the game wouldn't let me SAVE before fighting this fourth boss.  \"A half hour of work flushed down the toilet\" was the thought that went through my head.That led me to think the game might be too hard for me to handle, but it turned out I just didn't have the right upgrades for my X-buster equipped (actually I didn't have ANYTHING equipped!) so when I went back to do the battle again I defeated him (her, actually) rather easily.Most of the enemies throughout the game are rather easy to defeat (including the boss fights).  Many of the boss fights will keep you on your toes, though.  The strategy to defeating many of them is to KEEP RUNNING and only turn around when the moment is right and BLAST them!  The only boss who isn't easy is the very last boss (who sounds like Michael Jackson) because he has TWO forms.  The first form you can figure out with practice, but on the second form he turns into a giant machine and THEN the challenge increases.  But it's possible to find enough money to carry up to 10 Sub-tanks to help you out DRASTICALLY.  If you were to carry 10 Sub-tanks he would be a VERY easy boss!  Despite that, the game provides a nice challenge because the way the story unfolds forces you to do a LOT of things.  You have to go HERE, you have to go THERE!  You have to collect THIS, you have to collect THAT!  You'll find out just how many items and weapons are in the game when you hit the Start button and see everything in your inventory.  It's borderline INSANE.You see, to help make the game easier, what you have to do is go around searching for things (things located in treasure chests or holes in walls) and then you have to bring the things you collect back to this yellow vehicle where your female friend (or sister, I forget who she is) will be inside.  She can find ways to turn many of the things you collect into important weapons for you to use.  She must be smart!I think I explained myself correctly, there.  It's kind of confusing because there's so many things you have to collect and that's the main reason I can't give the game a perfect 5-star rating.  TOO MUCH!  In Mega Man Legends you will find SO many weapons and SO many upgrades that it can easily confuse someone (like me) who's normally not exposed to this much activity in a video game.You have to find a little dancing monkey to save your game.  When you're lost, he can also help you by telling you where to go, unfortunately many times he doesn't provide enough information.  So you can be left wandering around for hours until you finally have no choice but to find a strategy guide on the internet to help you out.The music in the game is nice.  It's usually played quietly which is odd because most Mega Man music is RIGHT in your face.  If you can actually hear the music, it's pretty much what you'd expect from a Mega Man game.Listen to those sound effects!!  Sound familiar?  Think South Park!  One of the children (or \"pirates\") sounds JUST like Butters, and a newswoman who appears later in the game sounds like Kyle's mom!  Some of the animation looks like South Park, too.  When did South Park come out?  1997?  Hmmm, makes you wonder...Once again, the graphics.  They aren't as bad as I thought they'd be.  Sort of blocky, of course (since this IS Playstation ONE we're talking about here) but I can't bring myself to really hate the graphics because there's a certain mysterious charm about them.  Mega Man Legends LOOKS like a children's game but it's not, really.  Most children wouldn't be able to complete the game because some boss strategies require careful timing and it would be difficult for a child.The play control... goodness.  It's definitely not easy to figure out at first.  To make Mega Man walk straight, you have to hold down the L and R buttons (this rotates the direction Mega Man is facing) while at the same time you have to use the up, down, left and right buttons to make Mega Man walk forward.  So, because you have to do a lot of running in Mega Man Legends, when an enemy is chasing you and RIGHT behind you, you have to turn around, use the L and R buttons to face him, and THEN hit him.  In the middle of hitting the L and R buttons will probably be the time you take the most hits.  It may take a few hours to properly pull off but you *should* become better at it with practice.A trick to help you: when an enemy is chasing you, run as far away from him as possible and THEN turn around.  Usually the enemy will be far enough away that you will have time to control Mega Man so he's facing the enemy directly.  Then, simply wait for the enemy to get close and fire away!  I wouldn't blame you if you couldn't figure out the controls- it's not the greatest way to control a character.  I'm not sure if Capcom improved the play control in Mega Man Legends 2.I find it funny and insulting that when you find a hole in a wall, many times a *very* small amount of money will be located there.  Small enough to not be able to afford ANYTHING.  It's funny because Capcom made it like \"wow, you found money!\" only to insult you with sofa cushion money.  To find a LOT of money you have to run around shooting enemies.Just running around shooting enemies and collecting zenny (money) is a lot of fun, not to mention addicting.  A pretty good game worth picking up.\n",
      "X Men vs Street Fighter was a big hit in the arcades everybody said that game was the s**t. The Saturn was the only home port that gave us tight controls great graphics good animation & still had tag team mode unfortunately thanks to Bernie Stolar we in the US didn't get X Men vs Street Fighter nor the 4 MB RAM cart so those of couldn't get the Saturn version got this s**t on the Playstation which is bad on 2D it didn't have tight controls it didn't have beautiful graphics animations were bad sluggish speed oh NO TAG TEAM MODE! I remember renting this version & thinking it was terrible it's just this game wasn't made for The Playstation. Now the Action Replay that bypasses region coading & uses a 1MB & 4MB RAM function I would also require a Ascii Saturn arcade stick for this game too so any owner of The Sega Saturn should get that version it's a great fighting game that plays like the arcade.\n",
      "The original Tomb Raider was a landmark game for the Playstation and the start of a very long running series. It holds up well, but is a definite acquired taste.Tomb Raider begins with adventurer and treasure huntress Lara Croft being hired by business woman Jacqueline Natla to search an ancient cavern in Peru for a piece of the Scion, an ancient talisman of great power. However, after finding the piece, Lara is betrayed by Jacqueline's men. Now it's a race across the world to find the remaining pieces of the Scion before Jacqueline attains its mythical power. Tomb Raider is an early Playstation game, and unfortunately the graphics haven't aged very well. Although many set pieces in the game are very impressive all the levels tend to feel very samey. Despite this the game's length is impressive. There are over fifteen massive levels with hidden caches of ammo and first aid packs, giving you a great sense of exploration throughout the game. Lara moves in a very stiff fashion. Her controls are tank-like and You have to hold down a button for her to walk. She takes very long jumps, but running jumps have a delay that requires you to plan your jumps ahead of time in most cases. Fortunately there is a training mission where Lara instructs you on how to play in her home. The game is primarily a puzzle platformer. Each level contains a series of puzzles that will test your problem solving skills.Scattered throughout the many ruins and caves are vicious animals and hired goons all chomping at the bit to impede your progress. This is where combat comes into play. Lara starts off the game with twin pistols that have unlimited ammo. Through out the game you will find a variety of firearms, however these weapons do have limited ammo, but the pistols ensure you will always have a fighting chance in battle.The last gameplay feature to talk about is the process of saving your game. The PC version of the game allowed the player to quicksave wherever they wanted. The console versions of the game on Playstation and Sega Saturn do not have this luxury. You can only save with the use of crystals that are placed along the path you are intended to follow. Unfortunately, once a crystal is used it is gone. This makes it really difficult when you've got a very long stretch ahead of you and not much health. Some areas have multiple crystals forcing you to carefully plan how often you save.This game has many flaws, but it is a very rewarding experience. I would recommend the game for those expecting a challenge. The later games in the Tomb Raider series ironed out many of the issues experienced here. If you're curious about the beginning of the franchise you won't be disappointed, but maybe a little stressed.For classic PC gamers I'd recommend Tomb Raider: Unfinished Business. This is the original game plus two bonus missions with two new levels a piece.\n",
      "Fans of dedicated single-player \"first person shooter\" games who've never played this game before should definitely not pass it up.  HL takes an utterly unoriginal idea for either games or movies and crafts an utterly unstoppable gaming experience.  You play Gordon Freeman, who works in the bowels of an ultra-secret, underground research facility called \"The Black Mesa\".  (Having played the game yet I'm still not sure what's supposed to be going on in BM - it's what happens that matters.)  Oozing high-tech, the facility is host to another dimension when you/Freeman accidentally...do something that tears a whole in the fabric of our own - allowing beings from that other world to enter ours.Now, if you think that these otherworldly denizens are peaceful beings intent on fostering cross-dimensional love, or that your fellow human beings will enter the Black Mesa unarmed intent on warmly welcoming these beings to our world, I'm afraid you've picked up the wrong game entirely.  For in the bowels of \"Black Mesa\" you'll confront howling dog things, flying crabs, alien-zombified versions of your colleagues, gigantic aliens that breathe fire through their fists, aliens that hang from ceilings (and entrap their victims using these vine-looking things) and squads of human special forces troops intent on killing everything that moves.  If the above attracts you because you think it may be the setting that elevates the nobility of the human existence, I should warn you to look elsewhere - for in \"Half Life\", you'll find yourself acting indiscriminately with a 9mm automatic, a submachine gun, grenades and (most regrettably of all) a nasty crowbar; you'll make few friends and find yourself (for the most part) alone and (not infrequently) exiled to ventilation ducts (again with the ducts!!) to avoid getting shot at by humans, or burned, bitten, bolted or tongue-bathed by aliens.  Complex problem solving skills (as much as marksmanship or bullet-saving) are crucial in this game - in which your enemies have above-average levels of AI.  There are unfortunately times when a level may be hung up by the failure to achieve some specific mission-goal, but this is on the whole a game in which the goals are sufficiently complex to make you feel cool for achieving them, yet not so complex as to be impossible to solve.  The settings are fantastic - from the vast to claustrophobic.  The game is long - uncommitted gamers may find it tedious - but the scope of design here rewards those who keep up with it.I ran this game on an XP-equipped P4, with a 64MB AGP card, and had no problems (other than those involving the evil aliens and homicidal fellow humans).  Graphics and sound were smooth, and I suffered no CTD's.\n",
      "This is one of the best games out there, it's a classic. Banjo-Kazooie is one of the rarest and hard to find games ever, The story is really good. A witch kidnaps a beautiful girl and wants to be the prettiest of them all. Her brother and his pal Kazooie have to save her. While its a relatively easy it can still be hard in some places and there are cheat codes to help you along the way with things like Gold feathers, Red feathers and Eggs. However if you quit and save your game then the cheat has to be reentered. While the game does have it's flaws its still really fun to play. The game essentially is very easy next to its sequel game, Banjo Tooie. The levels all relatively easy, however it is very easy to die in this game, on top of that like other reviewers on Amazon have said about dying and losing notes and recollecting them is toldly true. Clarkers Cavern was the worst because you only have 6 things of air and have to get extra air, from a fish blowing bubbles. The level that is the most challenging of them all was Click Clock Wood. Because of going from the changing seasons and having to grab notes from all seasons that was tough for me. However the most challenging and difficult part of this game, is beating Grunty herself. That is the most challenging part of this game. because you have to hit her with eggs and unfortunately its a huge flaw on Rare's part for not putting a homing shooter like they do in the sequel game. Overall despite it's many flaws Nintendo and Rare have done an excellent job making a game that is graphically pleasing, and the gameplay is awesome. Buy it you won't regret it.\n",
      "Alright this will most likely be the only time i will ever give a N64 game 5 stars, but for Goldeneye i eill make an exception. Ok Goldeneye was 64's jump into the world of high tech video game systems, but unfortunately they couldn't keep it up. This was a very solid 1st person shooter, excellent graphics , and not even repetitive secenary, what more could you ask for in a game? The weapons were great, maybe a little exaggerated at times, but over all good. Long levels and lots of them made this game excel in the lasting appeal category. Sound was good, but not having the cd quality sound os a PS or a DC hirt it a little. Unfortunately Goldeneye got a little smack in the face when everybody started comparing it to the flopped Perfect Dark game. But overall a great game and even though i am a die hard Playstation fan i still have a place in my heart for Goldeneye.\n",
      "Lara Croft games have NEVER been any good.  I remember when the very first one came out 10 years ago.  Teens were practically DROOLING on their controller every time they saw Lara's pretty face.  Tomb Raider must have been advertised like it was the most groundbreaking video game to ever hit the freakin' market.  The thing is, the games are boring and Lara Croft isn't very pretty.If polygon-breasted girls are your thing, go for it.  But they aren't MY thing, and I know I'm not the only one to think so.  Lara Croft isn't good-looking to the millions of internet gamers who understand that a blocky-looking computer babe isn't going to automatically make a game any fun to play.  I'll give Lara Croft SOME credit.  She was one of the originators of the \"running around half-naked female shooter/adventure\" type of video games.  In fact, you might even say she was a MAJOR influence because soon after her very first adventure, more and more game companies were making the main characters in their games half-naked chicks.  Lara brought something new to the world of video games and I will give her credit for that.Sometimes influence doesn't matter when a game is really bad.  This is one of those cases.  The Tomb Raider series on the original Playstation is a joke.  I absolutely *groan* when I think about playing a Tomb Raider game because I remember how ugly and dark the environments are, the glitchy problems that dominate all three Tomb Raider games, the annoying and difficult jumping style of Lara Croft (which makes it nearly impossible to progress to the end of the game.  Good luck- she NEVER jumps where you want her to) and of course, mentioned above, Lara's supposed beautiful face (she's NOT pretty, remember?)It also doesn't help that the puzzles you have to solve are ALWAYS really awful (and appear frequently) and, because of the jumping problem, very frustrating to complete.  Trying to aim your gun at an emeny isn't exactly a walk in the park, either.  The whole series has been an overrated disaster up to this point.By the time Tomb Raider 3 was released people were REALLY getting fed up with the series.  Now, these same people will tell you this was because they kept releasing more and more Tomb Raider games, but I actually think people got sick of Tomb Raider because games like Resident Evil and Silent Hill came along with a similar style and improved on it *drastically*, making Tomb Raider look awfully dated by comparison.At least the third Tomb Raider game has SOME decent-looking background levels.  I guess the company who created Lara Croft finally understood that Lara's pretty face ALONE isn't going to get the job done anymore.  I mean, at least in some places the backgrounds LOOK good .  Not exactly the prettiest environments available on the Playstation of course, and most of the time all you see is darkness or candlelight.  But what's THERE is okay to look at, at least.Tomb Raider 3 features a challenge that is mostly only challenging because of the above-mentioned jumping problem.  She simply doesn't jump the way you want her to.  You'd THINK the game company would've dealt with this problem with all the new moves for Lara they added to the game, but no, none of these new moves make the game any easier.  The artifact-finding storyline had potential but unfortunately the frustrating challenge ruined it.BOY am I glad I never bought any of these games (all these years I've been watching OTHER people play them).  Reading reviews for the more recent Tomb Raider games on the Playstation 2, I see NO improvements have been made.  Let the series END already.\n",
      "I'm very reluctant to try the new Spyro game for PS2, or to buy the Spyro games available for Xbox because Spyro games have stooped to such a low quality I'm afraid to play them. But for the old Spyro games on PSone I have no fears because these ones were developed by Insomniac (Ratchet and Clank, Resistance: Fall of Man), the studio that made the good ones, but sadly no longer makes them. The story is about how Spyro has to rescue all of the dragons who have been imprisoned in crystal cocoons by Nasty Nork. The gameplay functions very well for an old platformer, and never really gives you much trouble because of how smoothly it handles. The flight mechanic works well, but you can't use it all the time. The graphics look nice for the time, but are feeble by today's standards. The environments are bright and colorful and still have a great feel to them. You will spend your time defeating lots of enemies, rescuing your dragon friends, collecting jewels, finding hidden locations, getting health by letting your dragon fly buddy eat butterflies, and have a lot of fun doing all this. As much as this might sound terrible to some gamers, it's actually not repetitive and boring, but in reality a lot of fun. The biggest flaw of the entire game is the camera. The camera is a bit difficult to handle, and will unfortunately cause a few cheap deaths. Also, this game in some ways feels a bit too easy because within a twenty minute period I located 14 dragons. Plus this game simply isn't as fun as it's sequels Ripto's Revenge or Year of the Dragon. But this game is too much fun to really complain about, and I can guarantee no matter what demographic of gaming you fall in you will have a lot of fun on Spyro's PSone adventures.\n",
      "This is the best fighting game I've ever played and best for multiple players.  There are 8 regular characters plus 4 secret ones, each with over a dozen different moves.  There are 8 regular battle arenas (themed after the 8 characters) and 1 secret one.  Starting with three basic moves and playing with another novice, you can master all of the characters and all of their moves.  This game is unfortunately rigidly divided by skill, and good players will consistently beat worse ones.  I recommend this for everyone, especially those who enjoy games that require quick descisions.\n"
     ]
    }
   ],
   "source": [
    "findword('unfortunately',game_reviews)"
   ]
  },
  {
   "cell_type": "code",
   "execution_count": null,
   "metadata": {
    "collapsed": true
   },
   "outputs": [],
   "source": []
  },
  {
   "cell_type": "code",
   "execution_count": null,
   "metadata": {
    "collapsed": true
   },
   "outputs": [],
   "source": []
  },
  {
   "cell_type": "code",
   "execution_count": 10,
   "metadata": {},
   "outputs": [
    {
     "ename": "NameError",
     "evalue": "name 'games' is not defined",
     "output_type": "error",
     "traceback": [
      "\u001b[0;31m---------------------------------------------------------------------------\u001b[0m",
      "\u001b[0;31mNameError\u001b[0m                                 Traceback (most recent call last)",
      "\u001b[0;32m<ipython-input-10-5ed2d2bba277>\u001b[0m in \u001b[0;36m<module>\u001b[0;34m()\u001b[0m\n\u001b[1;32m      2\u001b[0m \u001b[0;32mfrom\u001b[0m \u001b[0mproject\u001b[0m \u001b[0;32mimport\u001b[0m \u001b[0mreplacestr\u001b[0m\u001b[0;34m\u001b[0m\u001b[0m\n\u001b[1;32m      3\u001b[0m \u001b[0mt1\u001b[0m\u001b[0;34m=\u001b[0m\u001b[0mtime\u001b[0m\u001b[0;34m.\u001b[0m\u001b[0mtime\u001b[0m\u001b[0;34m(\u001b[0m\u001b[0;34m)\u001b[0m\u001b[0;34m\u001b[0m\u001b[0m\n\u001b[0;32m----> 4\u001b[0;31m \u001b[0;32mfor\u001b[0m \u001b[0mgame\u001b[0m \u001b[0;32min\u001b[0m \u001b[0mgames\u001b[0m\u001b[0;34m:\u001b[0m\u001b[0;34m\u001b[0m\u001b[0m\n\u001b[0m\u001b[1;32m      5\u001b[0m     \u001b[0mgame\u001b[0m\u001b[0;34m[\u001b[0m\u001b[0;34m'reviewText'\u001b[0m\u001b[0;34m]\u001b[0m\u001b[0;34m=\u001b[0m\u001b[0mreplacestr\u001b[0m\u001b[0;34m(\u001b[0m\u001b[0mgame\u001b[0m\u001b[0;34m[\u001b[0m\u001b[0;34m'reviewText'\u001b[0m\u001b[0;34m]\u001b[0m\u001b[0;34m)\u001b[0m\u001b[0;34m\u001b[0m\u001b[0m\n\u001b[1;32m      6\u001b[0m \u001b[0;34m\u001b[0m\u001b[0m\n",
      "\u001b[0;31mNameError\u001b[0m: name 'games' is not defined"
     ]
    }
   ],
   "source": [
    "# lemmatization\n",
    "from project import replacestr\n",
    "t1=time.time()\n",
    "for game in games:\n",
    "    game['reviewText']=replacestr(game['reviewText'])\n",
    "\n",
    "\n",
    "t2=time.time()\n",
    "print(t2-t1)\n",
    "\n",
    "\n"
   ]
  },
  {
   "cell_type": "code",
   "execution_count": null,
   "metadata": {},
   "outputs": [],
   "source": [
    "\n",
    "\n"
   ]
  },
  {
   "cell_type": "code",
   "execution_count": null,
   "metadata": {},
   "outputs": [],
   "source": [
    "from collections import defaultdict\n",
    "storerate=defaultdict(int)\n",
    "for game in games:\n",
    "    storerate[game['overall']]+=1\n",
    "print(storerate)"
   ]
  },
  {
   "cell_type": "code",
   "execution_count": null,
   "metadata": {
    "collapsed": true
   },
   "outputs": [],
   "source": []
  }
 ],
 "metadata": {
  "kernelspec": {
   "display_name": "Python 2",
   "language": "python",
   "name": "python2"
  },
  "language_info": {
   "codemirror_mode": {
    "name": "ipython",
    "version": 2
   },
   "file_extension": ".py",
   "mimetype": "text/x-python",
   "name": "python",
   "nbconvert_exporter": "python",
   "pygments_lexer": "ipython2",
   "version": "2.7.13"
  }
 },
 "nbformat": 4,
 "nbformat_minor": 2
}
