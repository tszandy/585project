{
 "cells": [
  {
   "cell_type": "code",
   "execution_count": 1,
   "metadata": {
    "collapsed": true
   },
   "outputs": [],
   "source": [
    "%load_ext autoreload\n",
    "%autoreload 2"
   ]
  },
  {
   "cell_type": "code",
   "execution_count": 2,
   "metadata": {
    "collapsed": true
   },
   "outputs": [],
   "source": [
    "# import amazon videogame review\n",
    "from Turney import *\n",
    "import datetime as dt\n",
    "import matplotlib.pyplot as plt\n"
   ]
  },
  {
   "cell_type": "code",
   "execution_count": 3,
   "metadata": {
    "collapsed": true
   },
   "outputs": [],
   "source": [
    "# import amazon books review\n",
    "# allbooks=open('amazondataset/Books_5.json')\n",
    "# books=[]\n",
    "# for book in allbooks:\n",
    "#     books.append(json.load(book))\n",
    "# print(len(books))"
   ]
  },
  {
   "cell_type": "code",
   "execution_count": 4,
   "metadata": {},
   "outputs": [],
   "source": [
    "game_reviews_detail=read_amazon_review_detail('amazondataset/Video_Games_5.json')\n",
    "# game_reviews=read_amazon_review('amazondataset/Video_Games_5.json')"
   ]
  },
  {
   "cell_type": "code",
   "execution_count": 5,
   "metadata": {
    "collapsed": true
   },
   "outputs": [],
   "source": [
    "# print(game_reviews_detail[0].keys())\n",
    "# for key in game_reviews_detail[0].keys():\n",
    "#     print(key,game_reviews_detail[0][key])"
   ]
  },
  {
   "cell_type": "code",
   "execution_count": 6,
   "metadata": {
    "collapsed": true
   },
   "outputs": [],
   "source": [
    "movie_reviews_detail=read_amazon_review_detail('amazondataset/Movies_and_TV_5.json')\n",
    "# movie_reviews=read_amazon_review('amazondataset/Movies_and_TV_5.json')"
   ]
  },
  {
   "cell_type": "code",
   "execution_count": 7,
   "metadata": {},
   "outputs": [
    {
     "name": "stdout",
     "output_type": "stream",
     "text": [
      "[u'reviewerID', u'asin', u'reviewerName', u'helpful', u'reviewText', u'overall', u'summary', u'unixReviewTime', u'reviewTime']\n",
      "(u'reviewerID', u'ADZPIG9QOCDG5')\n",
      "(u'asin', u'0005019281')\n",
      "(u'reviewerName', u'Alice L. Larson \"alice-loves-books\"')\n",
      "(u'helpful', [0, 0])\n",
      "(u'reviewText', u'This is a charming version of the classic Dicken\\'s tale.  Henry Winkler makes a good showing as the \"Scrooge\" character.  Even though you know what will happen this version has enough of a change to make it better that average.  If you love A Christmas Carol in any version, then you will love this.')\n",
      "(u'overall', 4.0)\n",
      "(u'summary', u'good version of a classic')\n",
      "(u'unixReviewTime', 1203984000)\n",
      "(u'reviewTime', u'02 26, 2008')\n"
     ]
    }
   ],
   "source": [
    "print(movie_reviews_detail[0].keys())\n",
    "for key in movie_reviews_detail[0].keys():\n",
    "    print(key,movie_reviews_detail[0][key])"
   ]
  },
  {
   "cell_type": "code",
   "execution_count": 8,
   "metadata": {
    "collapsed": true
   },
   "outputs": [],
   "source": [
    "# top 50 negative and positive word base on pos and neg list\n",
    "# game_reviews_detail=read_amazon_review_detail('amazondataset/Video_Games_5.json')\n",
    "# game_reviews=read_amazon_review('amazondataset/Video_Games_5.json')\n",
    "# pos_list=[\"good\", \"nice\", \"love\", \"excellent\", \"fortunate\", \"correct\", \"superior\"]\n",
    "# neg_list=[\"struggle\" ,\"hate\" ,\"horrible\",\"bugs\",\"disappointing\"]\n",
    "# printword(pos_list,neg_list,game_reviews)"
   ]
  },
  {
   "cell_type": "code",
   "execution_count": 9,
   "metadata": {},
   "outputs": [],
   "source": [
    "# find word with 10 reviews\n",
    "# findword('unfortunately',game_reviews)"
   ]
  },
  {
   "cell_type": "code",
   "execution_count": 10,
   "metadata": {
    "collapsed": true
   },
   "outputs": [],
   "source": [
    "# negative review\n",
    "# for review_detail in game_reviews_detail:\n",
    "#     if review_detail['overall']==1:\n",
    "#         print(review_detail['reviewText'])\n",
    "\n"
   ]
  },
  {
   "cell_type": "code",
   "execution_count": 11,
   "metadata": {
    "collapsed": true
   },
   "outputs": [],
   "source": [
    "# positive review\n",
    "# for review_detail in game_reviews_detail:\n",
    "#     if review_detail['overall']==5:\n",
    "#         print(review_detail['reviewText'])\n",
    "\n"
   ]
  },
  {
   "cell_type": "code",
   "execution_count": null,
   "metadata": {
    "collapsed": true
   },
   "outputs": [],
   "source": []
  },
  {
   "cell_type": "code",
   "execution_count": null,
   "metadata": {
    "collapsed": true
   },
   "outputs": [],
   "source": []
  },
  {
   "cell_type": "code",
   "execution_count": null,
   "metadata": {
    "collapsed": true
   },
   "outputs": [],
   "source": []
  },
  {
   "cell_type": "code",
   "execution_count": 12,
   "metadata": {
    "collapsed": true
   },
   "outputs": [],
   "source": [
    "# lemmatization\n",
    "# from project import replacestr\n",
    "# t1=time.time()\n",
    "# for game in games:\n",
    "#     game['reviewText']=replacestr(game['reviewText'])\n",
    "\n",
    "\n",
    "# t2=time.time()\n",
    "# print(t2-t1)\n",
    "\n",
    "\n"
   ]
  },
  {
   "cell_type": "code",
   "execution_count": 13,
   "metadata": {},
   "outputs": [
    {
     "name": "stdout",
     "output_type": "stream",
     "text": [
      "231780\n",
      "24303\n",
      "defaultdict(<type 'int'>, {1.0: 14853, 2.0: 13663, 3.0: 28275, 4.0: 54804, 5.0: 120185})\n"
     ]
    }
   ],
   "source": [
    "# review rate\n",
    "from collections import defaultdict\n",
    "storerate=defaultdict(int)\n",
    "storereviewer=defaultdict(int)\n",
    "storedatereview=defaultdict(int)\n",
    "for review_detail in game_reviews_detail:\n",
    "    storerate[review_detail['overall']]+=1\n",
    "    storereviewer[review_detail['reviewerID']]+=1\n",
    "    storedatereview[review_detail['unixReviewTime']]+=1\n",
    "print(len(game_reviews_detail))\n",
    "print(len(storereviewer))\n",
    "print(storerate)\n"
   ]
  },
  {
   "cell_type": "code",
   "execution_count": 14,
   "metadata": {},
   "outputs": [
    {
     "data": {
      "image/png": "[encoded data removed]",
      "text/plain": [
       "<matplotlib.figure.Figure at 0x1c90a5f50>"
      ]
     },
     "metadata": {},
     "output_type": "display_data"
    }
   ],
   "source": [
    "import datetime as dt\n",
    "dt.datetime.fromtimestamp(1203984000)\n",
    "storedate=list(storedatereview.iteritems())\n",
    "storedate=sorted(storedate,key=lambda (u,v):(u,v))\n",
    "# for (date,freq) in storedate:\n",
    "#     print(dt.datetime.fromtimestamp(date),freq)\n",
    "# print(zip(*storedate))\n",
    "(date,freq)=map(list, zip(*storedate))\n",
    "date=map(dt.datetime.fromtimestamp,date)\n",
    "plt.plot(date,freq,'b')\n",
    "plt.xlabel('date')\n",
    "plt.ylabel('number of review each day')\n",
    "plt.title('amazon game review data distribution')\n",
    "plt.show()"
   ]
  },
  {
   "cell_type": "code",
   "execution_count": 15,
   "metadata": {},
   "outputs": [
    {
     "name": "stdout",
     "output_type": "stream",
     "text": [
      "1697533\n",
      "123960\n",
      "defaultdict(<type 'int'>, {1.0: 104219, 2.0: 102410, 3.0: 201302, 4.0: 382994, 5.0: 906608})\n"
     ]
    }
   ],
   "source": [
    "from collections import defaultdict\n",
    "storerate=defaultdict(int)\n",
    "storereviewer=defaultdict(int)\n",
    "storedatereview=defaultdict(int)\n",
    "for review_detail in movie_reviews_detail:\n",
    "    storerate[review_detail['overall']]+=1\n",
    "    storereviewer[review_detail['reviewerID']]+=1\n",
    "    storedatereview[review_detail['unixReviewTime']]+=1\n",
    "print(len(movie_reviews_detail))\n",
    "print(len(storereviewer))\n",
    "print(storerate)"
   ]
  },
  {
   "cell_type": "code",
   "execution_count": 16,
   "metadata": {},
   "outputs": [
    {
     "data": {
      "image/png": "[encoded data removed]",
      "text/plain": [
       "<matplotlib.figure.Figure at 0x1c90a5110>"
      ]
     },
     "metadata": {},
     "output_type": "display_data"
    }
   ],
   "source": [
    "import datetime as dt\n",
    "dt.datetime.fromtimestamp(1203984000)\n",
    "storedate=list(storedatereview.iteritems())\n",
    "storedate=sorted(storedate,key=lambda (u,v):(u,v))\n",
    "# for (date,freq) in storedate:\n",
    "#     print(dt.datetime.fromtimestamp(date),freq)\n",
    "# print(zip(*storedate))\n",
    "(date,freq)=map(list, zip(*storedate))\n",
    "date=map(dt.datetime.fromtimestamp,date)\n",
    "plt.plot(date,freq,'b')\n",
    "plt.xlabel('date')\n",
    "plt.ylabel('number of review each day')\n",
    "plt.title('amazon movie review data distribution')\n",
    "plt.show()"
   ]
  },
  {
   "cell_type": "code",
   "execution_count": 17,
   "metadata": {},
   "outputs": [],
   "source": [
    "# stemmer\n",
    "# from nltk.stem.porter import PorterStemmer\n",
    "# stemmer=PorterStemmer()\n",
    "# def tokenizer_porter(text):\n",
    "#     return [stemmer.stem(word) for word in text.split()]\n",
    "# tokenizer_porter('runners like running and thus they run')\n"
   ]
  },
  {
   "cell_type": "code",
   "execution_count": 18,
   "metadata": {},
   "outputs": [],
   "source": [
    "# lemmatize\n",
    "# from nltk.stem import WordNetLemmatizer\n",
    "# lemmatizer = WordNetLemmatizer()\n",
    "# lemmatizer.lemmatize('we\\'re')"
   ]
  },
  {
   "cell_type": "code",
   "execution_count": null,
   "metadata": {},
   "outputs": [],
   "source": []
  },
  {
   "cell_type": "code",
   "execution_count": null,
   "metadata": {
    "collapsed": true
   },
   "outputs": [],
   "source": []
  },
  {
   "cell_type": "code",
   "execution_count": null,
   "metadata": {
    "collapsed": true
   },
   "outputs": [],
   "source": []
  },
  {
   "cell_type": "code",
   "execution_count": null,
   "metadata": {
    "collapsed": true
   },
   "outputs": [],
   "source": []
  }
 ],
 "metadata": {
  "kernelspec": {
   "display_name": "Python 2",
   "language": "python",
   "name": "python2"
  },
  "language_info": {
   "codemirror_mode": {
    "name": "ipython",
    "version": 2
   },
   "file_extension": ".py",
   "mimetype": "text/x-python",
   "name": "python",
   "nbconvert_exporter": "python",
   "pygments_lexer": "ipython2",
   "version": "2.7.13"
  }
 },
 "nbformat": 4,
 "nbformat_minor": 2
}
